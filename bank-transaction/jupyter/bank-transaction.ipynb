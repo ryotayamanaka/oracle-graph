{
 "cells": [
  {
   "cell_type": "code",
   "execution_count": 67,
   "id": "b0932fb5",
   "metadata": {},
   "outputs": [
    {
     "name": "stdout",
     "output_type": "stream",
     "text": [
      "Password: ········\n",
      "17:34:07.935 [main] WARN oracle.pgx.api.Pgx - connecting to a PGX server over unencrypted http; this configuration is insecure and must not be used in production\n",
      "PgxSession(id: 527510d2-74d1-4361-98d4-a6a91e53bd3c, name: test)\n"
     ]
    }
   ],
   "source": [
    "from opg4py import graph_server\n",
    "from pypgx import setloglevel\n",
    "from getpass import getpass\n",
    "\n",
    "setloglevel(\"ROOT\", \"WARN\")\n",
    "\n",
    "base_url = \"http://localhost:7007\"\n",
    "username = \"graphuser\"\n",
    "password = getpass(\"Password: \")\n",
    "\n",
    "instance = graph_server.get_instance(base_url, username, password)\n",
    "session = instance.create_session(\"test\")\n",
    "analyst = session.create_analyst()\n",
    "\n",
    "print(session)"
   ]
  },
  {
   "cell_type": "code",
   "execution_count": 68,
   "id": "e5464b43",
   "metadata": {},
   "outputs": [
    {
     "name": "stdout",
     "output_type": "stream",
     "text": [
      "PgxGraph(name: BANK_GRAPH, v: 360, e: 6230, directed: True, memory(Mb): 0)\n"
     ]
    }
   ],
   "source": [
    "graph = session.read_graph_by_name(\"BANK_GRAPH\", \"pg_sql\")\n",
    "print(graph)"
   ]
  },
  {
   "cell_type": "code",
   "execution_count": 58,
   "id": "b7511b2f",
   "metadata": {},
   "outputs": [
    {
     "name": "stdout",
     "output_type": "stream",
     "text": [
      "+--------------------------------+\n",
      "| first_name | LABEL(e) | acc_id |\n",
      "+--------------------------------+\n",
      "| Laura      | OWNS     | 10     |\n",
      "| Laura      | OWNS     | 90     |\n",
      "+--------------------------------+\n",
      "\n"
     ]
    }
   ],
   "source": [
    "graph.query_pgql(\"\"\"\n",
    "SELECT c.first_name, LABEL(e), a.acc_id\n",
    "FROM MATCH (c:customer)-[e:owns]->(a:account)\n",
    "WHERE c.cst_id = 10\n",
    "\"\"\").print()"
   ]
  },
  {
   "cell_type": "code",
   "execution_count": 59,
   "id": "37cb7b4a",
   "metadata": {},
   "outputs": [
    {
     "name": "stdout",
     "output_type": "stream",
     "text": [
      "+--------------------------------------+\n",
      "| acc_ids  | txn_ids      | amounts    |\n",
      "+--------------------------------------+\n",
      "| [59, 50] | [1015, 5916] | [100, 500] |\n",
      "+--------------------------------------+\n",
      "\n"
     ]
    }
   ],
   "source": [
    "graph.query_pgql(\"\"\"\n",
    "SELECT ARRAY_AGG(a.acc_id) AS acc_ids\n",
    "     , ARRAY_AGG(t.txn_id) AS txn_ids\n",
    "     , ARRAY_AGG(t.amount) AS amounts\n",
    "FROM MATCH TOP 1 SHORTEST (a1) (-[t:transferred_to]->(a))+ (a2)\n",
    "WHERE a1.acc_id = 10 AND a2.acc_id = 50\n",
    "  AND COUNT(a) = COUNT(DISTINCT a)\n",
    "\"\"\").print()"
   ]
  },
  {
   "cell_type": "code",
   "execution_count": 60,
   "id": "76efb414",
   "metadata": {},
   "outputs": [
    {
     "name": "stdout",
     "output_type": "stream",
     "text": [
      "+-------------------------------------------------------------------------------+\n",
      "| acc_ids            | txn_ids                      | amounts                   |\n",
      "+-------------------------------------------------------------------------------+\n",
      "| [61, 9, 18, 5, 50] | [1047, 6114, 914, 1819, 512] | [900, 900, 900, 900, 900] |\n",
      "+-------------------------------------------------------------------------------+\n",
      "\n"
     ]
    }
   ],
   "source": [
    "graph.query_pgql(\"\"\"\n",
    "SELECT ARRAY_AGG(a.acc_id) AS acc_ids\n",
    "     , ARRAY_AGG(t.txn_id) AS txn_ids\n",
    "     , ARRAY_AGG(t.amount) AS amounts\n",
    "FROM MATCH TOP 1 SHORTEST (a1) (-[t:transferred_to]->(a) WHERE t.amount > 800){5,} (a2)\n",
    "WHERE a1.acc_id = 10 AND a2.acc_id = 50\n",
    "  AND COUNT(a) = COUNT(DISTINCT a)\n",
    "\"\"\").print()"
   ]
  },
  {
   "cell_type": "code",
   "execution_count": 61,
   "id": "53eb6cab",
   "metadata": {},
   "outputs": [
    {
     "name": "stdout",
     "output_type": "stream",
     "text": [
      "+-----------------------------------------------------------------------------------+\n",
      "| acc_ids              | txn_ids                        | amounts                   |\n",
      "+-----------------------------------------------------------------------------------+\n",
      "| [25, 20, 37, 77, 10] | [1028, 2514, 2005, 3712, 7714] | [900, 900, 900, 900, 900] |\n",
      "+-----------------------------------------------------------------------------------+\n",
      "\n"
     ]
    }
   ],
   "source": [
    "graph.query_pgql(\"\"\"\n",
    "SELECT ARRAY_AGG(a.acc_id) AS acc_ids\n",
    "     , ARRAY_AGG(t.txn_id) AS txn_ids\n",
    "     , ARRAY_AGG(t.amount) AS amounts\n",
    "FROM MATCH TOP 1 SHORTEST (a1) (-[t:transferred_to]->(a) WHERE t.amount > 800){5,} (a1)\n",
    "WHERE a1.acc_id = 10\n",
    "  AND COUNT(a) = COUNT(DISTINCT a)\n",
    "\"\"\").print()"
   ]
  },
  {
   "cell_type": "code",
   "execution_count": 62,
   "id": "44a445dc",
   "metadata": {},
   "outputs": [
    {
     "name": "stdout",
     "output_type": "stream",
     "text": [
      "+--------------------------------------------+\n",
      "| element | src_acc_id | dst_acc_id | amount |\n",
      "+--------------------------------------------+\n",
      "| 2       | 10         | 25         | 900    |\n",
      "| 4       | 25         | 20         | 900    |\n",
      "| 6       | 20         | 37         | 900    |\n",
      "| 8       | 37         | 77         | 900    |\n",
      "| 10      | 77         | 10         | 900    |\n",
      "+--------------------------------------------+\n",
      "\n"
     ]
    }
   ],
   "source": [
    "graph.query_pgql(\"\"\"\n",
    "SELECT ELEMENT_NUMBER(e) AS element\n",
    "     , src.acc_id AS src_acc_id\n",
    "     , dst.acc_id AS dst_acc_id\n",
    "     , e.amount\n",
    "FROM MATCH TOP 1 SHORTEST (a1) (-[t:transferred_to]->(a) WHERE t.amount > 800){5,} (a1)\n",
    "     ONE ROW PER STEP (src, e, dst)\n",
    "WHERE a1.acc_id = 10\n",
    "  AND COUNT(a) = COUNT(DISTINCT a)\n",
    "ORDER BY element ASC\n",
    "\"\"\").print()"
   ]
  },
  {
   "cell_type": "code",
   "execution_count": 63,
   "id": "1a588d6e",
   "metadata": {},
   "outputs": [
    {
     "data": {
      "text/plain": [
       "VertexProperty(name: pagerank, type: double, graph: BANK_GRAPH)"
      ]
     },
     "execution_count": 63,
     "metadata": {},
     "output_type": "execute_result"
    }
   ],
   "source": [
    "analyst.pagerank(graph)"
   ]
  },
  {
   "cell_type": "code",
   "execution_count": 64,
   "id": "056c4699",
   "metadata": {},
   "outputs": [
    {
     "data": {
      "text/plain": [
       "VertexProperty(name: out_degree, type: integer, graph: BANK_GRAPH)"
      ]
     },
     "execution_count": 64,
     "metadata": {},
     "output_type": "execute_result"
    }
   ],
   "source": [
    "analyst.degree_centrality(graph)\n",
    "analyst.in_degree_centrality(graph)\n",
    "analyst.out_degree_centrality(graph)"
   ]
  },
  {
   "cell_type": "code",
   "execution_count": 65,
   "id": "a83bf605",
   "metadata": {},
   "outputs": [
    {
     "name": "stdout",
     "output_type": "stream",
     "text": [
      "+-----------------------------------------------------------------+\n",
      "| acc_id | pagerank             | degree | in_degree | out_degree |\n",
      "+-----------------------------------------------------------------+\n",
      "| 41     | 0.009801832009337184 | 102    | 62        | 40         |\n",
      "| 136    | 0.008582923494326107 | 94     | 44        | 50         |\n",
      "| 123    | 0.00798299656203572  | 54     | 44        | 10         |\n",
      "| 124    | 0.007960671512202215 | 72     | 42        | 30         |\n",
      "| 132    | 0.007859597496691451 | 74     | 34        | 40         |\n",
      "| 105    | 0.00758138767121552  | 88     | 38        | 50         |\n",
      "| 33     | 0.007552475085421669 | 108    | 58        | 50         |\n",
      "| 5      | 0.007491840249636888 | 92     | 42        | 50         |\n",
      "| 24     | 0.007483037079652473 | 89     | 49        | 40         |\n",
      "| 36     | 0.007448994936592109 | 71     | 41        | 30         |\n",
      "+-----------------------------------------------------------------+\n",
      "\n"
     ]
    }
   ],
   "source": [
    "graph.query_pgql(\"\"\"\n",
    "SELECT\n",
    "  a.acc_id\n",
    ", a.pagerank\n",
    ", a.degree\n",
    ", a.in_degree\n",
    ", a.out_degree\n",
    "FROM MATCH (a)\n",
    "ORDER BY a.pagerank DESC\n",
    "LIMIT 10\n",
    "\"\"\").print()"
   ]
  },
  {
   "cell_type": "code",
   "execution_count": null,
   "id": "9bb2102c",
   "metadata": {},
   "outputs": [],
   "source": []
  }
 ],
 "metadata": {
  "kernelspec": {
   "display_name": "Python 3 (ipykernel)",
   "language": "python",
   "name": "python3"
  },
  "language_info": {
   "codemirror_mode": {
    "name": "ipython",
    "version": 3
   },
   "file_extension": ".py",
   "mimetype": "text/x-python",
   "name": "python",
   "nbconvert_exporter": "python",
   "pygments_lexer": "ipython3",
   "version": "3.8.13"
  }
 },
 "nbformat": 4,
 "nbformat_minor": 5
}
