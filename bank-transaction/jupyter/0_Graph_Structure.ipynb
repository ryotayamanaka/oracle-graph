{
 "cells": [
  {
   "cell_type": "code",
   "execution_count": null,
   "metadata": {},
   "outputs": [],
   "source": [
    "import networkx as nx\n",
    "import random\n",
    "import sys\n",
    "import time\n",
    "import names\n",
    "\n",
    "num_node = int(sys.argv[1])\n",
    "fa = open('account.csv', \"w\")\n",
    "fc = open('customer.csv', \"w\")\n",
    "ft = open('transaction.csv', \"w\")\n",
    "\n",
    "fa.write('acc_id,cst_id\\n')\n",
    "fc.write('cst_id,first_name,last_name\\n')\n",
    "ft.write('acc_id_src,acc_id_dst,txn_id,datetime,amount\\n')\n",
    "\n",
    "graph = nx.gnp_random_graph(num_node, 20 / num_node, seed=0, directed=False)\n",
    "print('Avg degree:', graph.number_of_edges() * 2 / graph.number_of_nodes())\n",
    "\n",
    "# Account\n",
    "for node in range(num_node):\n",
    "    fa.write(','.join([\n",
    "        str(node), # ID\n",
    "        str(node % (int(num_node * 0.8))) # Customer ID\n",
    "        ]) + '\\n')\n",
    "\n",
    "# Customer\n",
    "for node in range(int(num_node * 0.8)):\n",
    "    fc.write(','.join([\n",
    "        str(node), # ID\n",
    "        names.get_first_name(),\n",
    "        names.get_last_name()\n",
    "        ]) + '\\n')\n",
    "\n",
    "def random_date(proportion):\n",
    "    format = '%Y-%m-%d %H:%M:%S'\n",
    "    stime = time.mktime(time.strptime(\"2020-11-10 9:00:00\", format))\n",
    "    etime = time.mktime(time.strptime(\"2020-11-20 9:00:00\", format))\n",
    "    ptime = stime + proportion * (etime - stime)\n",
    "    return time.strftime(format, time.localtime(ptime))\n",
    "\n",
    "# Transaction\n",
    "for node in range(num_node):\n",
    "    neighbors = list(graph.neighbors(node))\n",
    "    random.seed(node)\n",
    "    num_edge = random.choice([10,20,30,40,50])\n",
    "    for edge in range(num_edge):\n",
    "        node_src = node\n",
    "        random.seed(edge)\n",
    "        node_dst = random.choice(neighbors)\n",
    "        ft.write(','.join([\n",
    "            str(node_src),\n",
    "            str(node_dst),\n",
    "            str(node_src * 100 + edge), # txn_id\n",
    "            random_date(random.random()), # txn_time\n",
    "            str(random.randrange(100, 1000, step=100)) # amount\n",
    "            ]) + '\\n')"
   ]
  }
 ],
 "metadata": {
  "kernelspec": {
   "display_name": "Python 3",
   "language": "python",
   "name": "python3"
  },
  "language_info": {
   "codemirror_mode": {
    "name": "ipython",
    "version": 3
   },
   "file_extension": ".py",
   "mimetype": "text/x-python",
   "name": "python",
   "nbconvert_exporter": "python",
   "pygments_lexer": "ipython3",
   "version": "3.6.8"
  }
 },
 "nbformat": 4,
 "nbformat_minor": 4
}
