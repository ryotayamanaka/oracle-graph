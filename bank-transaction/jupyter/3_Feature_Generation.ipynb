{
 "cells": [
  {
   "cell_type": "markdown",
   "metadata": {},
   "source": [
    "## Connect and Get Graph"
   ]
  },
  {
   "cell_type": "code",
   "execution_count": 51,
   "metadata": {},
   "outputs": [
    {
     "name": "stdout",
     "output_type": "stream",
     "text": [
      "PgxSession(id: 067a4438-a45c-47bf-bb14-f3932928ed59, name: python_pgx_client)\n"
     ]
    }
   ],
   "source": [
    "import pypgx.pg.rdbms.graph_server as graph_server\n",
    "\n",
    "base_url = \"https://localhost:7007\"\n",
    "username = \"graphuser\"\n",
    "password = \"WELcome123##\"\n",
    "\n",
    "instance = graph_server.get_instance(base_url, username, password)\n",
    "session = instance.create_session(\"jupyter\")\n",
    "analyst = session.create_analyst()\n",
    "\n",
    "print(session)"
   ]
  },
  {
   "cell_type": "code",
   "execution_count": 52,
   "metadata": {},
   "outputs": [
    {
     "data": {
      "text/plain": [
       "PgxGraph(name: Moneyflows, v: 18000, e: 309240, directed: True, memory(Mb): 17)"
      ]
     },
     "execution_count": 52,
     "metadata": {},
     "output_type": "execute_result"
    }
   ],
   "source": [
    "graph = session.get_graph(\"GRAPH2\")\n",
    "graph"
   ]
  },
  {
   "cell_type": "markdown",
   "metadata": {},
   "source": [
    "## Modify Graph"
   ]
  },
  {
   "cell_type": "code",
   "execution_count": 97,
   "metadata": {},
   "outputs": [],
   "source": [
    "graph = graph.clone_and_execute_pgql(\"\"\"\n",
    "INSERT EDGE e BETWEEN x AND y LABELS (transferred_to) PROPERTIES (e.amount = 100)\n",
    "  FROM MATCH (x:account), MATCH (y:account) WHERE x.acc_id = 1 AND y.acc_id = 2\n",
    "\"\"\")"
   ]
  },
  {
   "cell_type": "code",
   "execution_count": 98,
   "metadata": {},
   "outputs": [
    {
     "data": {
      "text/plain": [
       "PgxGraph(name: sub-graph_42, v: 10000, e: 299244, directed: True, memory(Mb): 19)"
      ]
     },
     "execution_count": 98,
     "metadata": {},
     "output_type": "execute_result"
    }
   ],
   "source": [
    "graph"
   ]
  },
  {
   "cell_type": "code",
   "execution_count": 102,
   "metadata": {},
   "outputs": [
    {
     "data": {
      "text/plain": [
       "VertexProperty(name: is_fraud, type: boolean, graph: sub-graph_42)"
      ]
     },
     "execution_count": 102,
     "metadata": {},
     "output_type": "execute_result"
    }
   ],
   "source": [
    "graph.destroy_vertex_property_if_exists(\"is_fraud\")\n",
    "graph.create_vertex_property(\"boolean\", \"is_fraud\")"
   ]
  },
  {
   "cell_type": "code",
   "execution_count": 103,
   "metadata": {},
   "outputs": [],
   "source": [
    "graph = graph.clone_and_execute_pgql(\"\"\"\n",
    "UPDATE x SET (x.is_fraud = true) FROM MATCH (x:account) WHERE x.acc_id = 1\n",
    "\"\"\")"
   ]
  },
  {
   "cell_type": "markdown",
   "metadata": {},
   "source": [
    "## Centrality"
   ]
  },
  {
   "cell_type": "code",
   "execution_count": 53,
   "metadata": {},
   "outputs": [
    {
     "data": {
      "text/plain": [
       "PgxGraph(name: sub-graph_23, v: 10000, e: 299240, directed: True, memory(Mb): 14)"
      ]
     },
     "execution_count": 53,
     "metadata": {},
     "output_type": "execute_result"
    }
   ],
   "source": [
    "graph = graph.filter(pgx.EdgeFilter(\"edge.label()='TRANSFERRED_TO'\"))\n",
    "graph"
   ]
  },
  {
   "cell_type": "code",
   "execution_count": 56,
   "metadata": {},
   "outputs": [
    {
     "data": {
      "text/plain": [
       "VertexProperty(name: in_degree, type: integer, graph: sub-graph_23)"
      ]
     },
     "execution_count": 56,
     "metadata": {},
     "output_type": "execute_result"
    }
   ],
   "source": [
    "result = analyst.in_degree_centrality(graph)\n",
    "result"
   ]
  },
  {
   "cell_type": "code",
   "execution_count": 60,
   "metadata": {},
   "outputs": [
    {
     "data": {
      "text/plain": [
       "VertexProperty(name: out_degree, type: integer, graph: sub-graph_23)"
      ]
     },
     "execution_count": 60,
     "metadata": {},
     "output_type": "execute_result"
    }
   ],
   "source": [
    "result = analyst.out_degree_centrality(graph)\n",
    "result"
   ]
  },
  {
   "cell_type": "code",
   "execution_count": 54,
   "metadata": {},
   "outputs": [
    {
     "data": {
      "text/plain": [
       "VertexProperty(name: pagerank, type: double, graph: sub-graph_23)"
      ]
     },
     "execution_count": 54,
     "metadata": {},
     "output_type": "execute_result"
    }
   ],
   "source": [
    "result = analyst.pagerank(graph)\n",
    "result"
   ]
  },
  {
   "cell_type": "code",
   "execution_count": 73,
   "metadata": {},
   "outputs": [
    {
     "data": {
      "text/plain": [
       "VertexProperty(name: approx_betweenness, type: double, graph: sub-graph_23)"
      ]
     },
     "execution_count": 73,
     "metadata": {},
     "output_type": "execute_result"
    }
   ],
   "source": [
    "graph.destroy_vertex_property_if_exists(\"approx_betweenness\")\n",
    "result = analyst.approximate_vertex_betweenness_centrality(graph, 100)\n",
    "result"
   ]
  },
  {
   "cell_type": "code",
   "execution_count": 89,
   "metadata": {},
   "outputs": [
    {
     "data": {
      "text/plain": [
       "VertexProperty(name: eigenvector, type: double, graph: sub-graph_23)"
      ]
     },
     "execution_count": 89,
     "metadata": {},
     "output_type": "execute_result"
    }
   ],
   "source": [
    "result = analyst.eigenvector_centrality(graph)\n",
    "result"
   ]
  },
  {
   "cell_type": "code",
   "execution_count": 91,
   "metadata": {
    "scrolled": true
   },
   "outputs": [
    {
     "name": "stdout",
     "output_type": "stream",
     "text": [
      "+--------------------------------------------------------------------------------------------------+\n",
      "| id | in_degree | out_degree | pagerank              | approx_betweenness | eigenvector           |\n",
      "+--------------------------------------------------------------------------------------------------+\n",
      "| 0  | 11        | 40         | 3.5983441791575393E-5 | 104.49709350562382 | 1.2975692036835016E-4 |\n",
      "| 1  | 12        | 10         | 3.575203057519747E-5  | 65.7718232584681   | 3.849965117169405E-5  |\n",
      "| 2  | 5         | 20         | 2.638818724149162E-5  | 23.303157494654254 | 4.7213043338719186E-5 |\n",
      "| 3  | 11        | 50         | 3.969588867386258E-5  | 175.58422092758997 | 1.6627449674103638E-4 |\n",
      "| 4  | 5         | 20         | 2.451180169773911E-5  | 52.08889414019682  | 6.516924150293993E-5  |\n",
      "| 5  | 8         | 50         | 3.1781903549304766E-5 | 40.018729935318156 | 1.347778467041246E-4  |\n",
      "| 6  | 13        | 40         | 4.433780298702424E-5  | 69.05850389397104  | 1.4053419421092097E-4 |\n",
      "| 7  | 10        | 10         | 3.3114804378126046E-5 | 30.136052211880312 | 3.726083841486476E-5  |\n",
      "| 8  | 6         | 30         | 2.594400842636284E-5  | 69.98659544068973  | 1.1366647775781605E-4 |\n",
      "| 9  | 12        | 20         | 3.767037059193889E-5  | 51.54939769989561  | 7.119238433193628E-5  |\n",
      "+--------------------------------------------------------------------------------------------------+\n",
      "\n"
     ]
    }
   ],
   "source": [
    "graph.query_pgql(\"\"\"\n",
    "  SELECT\n",
    "    ID(a) AS id\n",
    "  , a.in_degree\n",
    "  , a.out_degree\n",
    "  , a.pagerank\n",
    "  , a.approx_betweenness\n",
    "  , a.eigenvector\n",
    "  FROM MATCH (a)\n",
    "  WHERE LABEL(a) = 'ACCOUNT'\n",
    "  LIMIT 10\n",
    "\"\"\").print()"
   ]
  },
  {
   "cell_type": "code",
   "execution_count": 90,
   "metadata": {
    "scrolled": true
   },
   "outputs": [
    {
     "name": "stdout",
     "output_type": "stream",
     "text": [
      "+-------------------------------+\n",
      "| eigenvector           | count |\n",
      "+-------------------------------+\n",
      "| 6.373426281538385E-5  | 1     |\n",
      "| 8.489945688799421E-5  | 1     |\n",
      "| 8.93271202199486E-5   | 1     |\n",
      "| 7.453045363561783E-5  | 1     |\n",
      "| 1.1769880823077846E-4 | 1     |\n",
      "| 1.4242949020520104E-4 | 1     |\n",
      "| 1.3940538678912094E-4 | 1     |\n",
      "| 1.7427731399268602E-4 | 1     |\n",
      "| 2.2822500546161515E-5 | 1     |\n",
      "| 4.8889451844046E-5    | 1     |\n",
      "+-------------------------------+\n",
      "\n"
     ]
    }
   ],
   "source": [
    "graph.query_pgql(\"\"\"\n",
    "  SELECT\n",
    "    a.eigenvector,\n",
    "    COUNT(*) AS count\n",
    "  FROM MATCH (a)\n",
    "  WHERE LABEL(a) = 'ACCOUNT'\n",
    "  GROUP BY a.eigenvector\n",
    "  ORDER BY count DESC\n",
    "  LIMIT 10\n",
    "\"\"\").print()"
   ]
  },
  {
   "cell_type": "markdown",
   "metadata": {},
   "source": [
    "## Community Detection"
   ]
  },
  {
   "cell_type": "code",
   "execution_count": 23,
   "metadata": {},
   "outputs": [
    {
     "data": {
      "text/plain": [
       "PgxGraph(name: sub-graph_16, v: 10000, e: 299240, directed: True, memory(Mb): 14)"
      ]
     },
     "execution_count": 23,
     "metadata": {},
     "output_type": "execute_result"
    }
   ],
   "source": [
    "graph = graph.filter(pgx.EdgeFilter(\"edge.label()='TRANSFERRED_TO'\"))\n",
    "graph"
   ]
  },
  {
   "cell_type": "code",
   "execution_count": 79,
   "metadata": {},
   "outputs": [
    {
     "data": {
      "text/plain": [
       "PgxPartition(graph: sub-graph_23, components: 2031)"
      ]
     },
     "execution_count": 79,
     "metadata": {},
     "output_type": "execute_result"
    }
   ],
   "source": [
    "result = analyst.communities_label_propagation(graph)\n",
    "result"
   ]
  },
  {
   "cell_type": "code",
   "execution_count": 82,
   "metadata": {},
   "outputs": [
    {
     "data": {
      "text/plain": [
       "PgxPartition(graph: sub-graph_23, components: 508)"
      ]
     },
     "execution_count": 82,
     "metadata": {},
     "output_type": "execute_result"
    }
   ],
   "source": [
    "result = analyst.communities_conductance_minimization(graph)\n",
    "result"
   ]
  },
  {
   "cell_type": "code",
   "execution_count": 83,
   "metadata": {},
   "outputs": [
    {
     "name": "stdout",
     "output_type": "stream",
     "text": [
      "+---------------------------------------------------+\n",
      "| id | label_propagation | conductance_minimization |\n",
      "+---------------------------------------------------+\n",
      "| 0  | 0                 | 203                      |\n",
      "| 1  | 1                 | 0                        |\n",
      "| 2  | 2                 | 485                      |\n",
      "| 3  | 3                 | 350                      |\n",
      "| 4  | 4                 | 435                      |\n",
      "| 5  | 5                 | 178                      |\n",
      "| 6  | 6                 | 1                        |\n",
      "| 7  | 7                 | 203                      |\n",
      "| 8  | 8                 | 118                      |\n",
      "| 9  | 9                 | 226                      |\n",
      "+---------------------------------------------------+\n",
      "\n"
     ]
    }
   ],
   "source": [
    "graph.query_pgql(\"\"\"\n",
    "  SELECT\n",
    "    ID(a) AS id\n",
    "  , a.label_propagation\n",
    "  , a.conductance_minimization\n",
    "  FROM MATCH (a)\n",
    "  WHERE LABEL(a) = 'ACCOUNT'\n",
    "  LIMIT 10\n",
    "\"\"\").print()"
   ]
  },
  {
   "cell_type": "code",
   "execution_count": 84,
   "metadata": {
    "scrolled": true
   },
   "outputs": [
    {
     "name": "stdout",
     "output_type": "stream",
     "text": [
      "+---------------------------+\n",
      "| label_propagation | count |\n",
      "+---------------------------+\n",
      "| 13                | 37    |\n",
      "| 539               | 31    |\n",
      "| 1005              | 31    |\n",
      "| 506               | 28    |\n",
      "| 333               | 27    |\n",
      "| 856               | 27    |\n",
      "| 363               | 23    |\n",
      "| 248               | 23    |\n",
      "| 802               | 22    |\n",
      "| 149               | 22    |\n",
      "+---------------------------+\n",
      "\n"
     ]
    }
   ],
   "source": [
    "graph.query_pgql(\"\"\"\n",
    "  SELECT\n",
    "    a.label_propagation,\n",
    "    COUNT(*) AS count\n",
    "  FROM MATCH (a)\n",
    "  WHERE LABEL(a) = 'ACCOUNT'\n",
    "  GROUP BY a.label_propagation\n",
    "  ORDER BY count DESC\n",
    "  LIMIT 10\n",
    "\"\"\").print()"
   ]
  },
  {
   "cell_type": "markdown",
   "metadata": {},
   "source": [
    "## Closeness to Known Fraud Accounts"
   ]
  },
  {
   "cell_type": "code",
   "execution_count": 127,
   "metadata": {},
   "outputs": [
    {
     "name": "stdout",
     "output_type": "stream",
     "text": [
      "+----------+\n",
      "| COUNT(*) |\n",
      "+----------+\n",
      "| 1        |\n",
      "+----------+\n",
      "\n"
     ]
    }
   ],
   "source": [
    "graph.query_pgql(\"\"\"\n",
    "  SELECT COUNT(*)\n",
    "  FROM MATCH (a)\n",
    "  WHERE a.is_fraud = true\n",
    "\"\"\").print()"
   ]
  },
  {
   "cell_type": "code",
   "execution_count": 123,
   "metadata": {},
   "outputs": [
    {
     "data": {
      "text/plain": [
       "VertexProperty(name: fraud_closeness, type: double, graph: sub-graph_44)"
      ]
     },
     "execution_count": 123,
     "metadata": {},
     "output_type": "execute_result"
    }
   ],
   "source": [
    "rs = graph.query_pgql(\"SELECT ID(a) FROM MATCH (a) WHERE a.is_fraud = true\")\n",
    "vertex = graph.get_vertex(rs.get_row(0))\n",
    "graph.destroy_vertex_property_if_exists(\"ppr\")\n",
    "analyst.personalized_pagerank(graph, vertex, rank=\"fraud_closeness\")"
   ]
  },
  {
   "cell_type": "code",
   "execution_count": 128,
   "metadata": {},
   "outputs": [
    {
     "name": "stdout",
     "output_type": "stream",
     "text": [
      "+--------------------------------+\n",
      "| acc_id | fraud_closeness       |\n",
      "+--------------------------------+\n",
      "| 0      | 1.0421308187008823E-5 |\n",
      "| 1      | 0.15092796582155435   |\n",
      "| 2      | 0.01130217355096834   |\n",
      "| 3      | 2.334016436902037E-6  |\n",
      "| 4      | 0.006495951565058347  |\n",
      "+--------------------------------+\n",
      "\n"
     ]
    }
   ],
   "source": [
    "graph.query_pgql(\"\"\"\n",
    "  SELECT\n",
    "    a.acc_id\n",
    "  , a.fraud_closeness\n",
    "  FROM MATCH (a)\n",
    "  WHERE LABEL(a) = 'ACCOUNT'\n",
    "  ORDER BY a.acc_id\n",
    "  LIMIT 5\n",
    "\"\"\").print()"
   ]
  },
  {
   "cell_type": "markdown",
   "metadata": {},
   "source": [
    "## Patterns"
   ]
  },
  {
   "cell_type": "code",
   "execution_count": 158,
   "metadata": {},
   "outputs": [
    {
     "name": "stdout",
     "output_type": "stream",
     "text": [
      "+-------------------+\n",
      "| acc_id | count(*) |\n",
      "+-------------------+\n",
      "| 24     | 1        |\n",
      "| 30     | 1        |\n",
      "| 39     | 1        |\n",
      "| 40     | 4        |\n",
      "| 44     | 2        |\n",
      "+-------------------+\n",
      "\n"
     ]
    }
   ],
   "source": [
    "graph.query_pgql(\"\"\"\n",
    "  SELECT a1.acc_id, count(*)\n",
    "  FROM MATCH (a1)-[t1:transferred_to]->(a2)-[t2:transferred_to]->(a3)\n",
    "     , MATCH (a3)-[t3:transferred_to]->(a4)-[t4:transferred_to]->(a1)\n",
    "  WHERE ID(a1) != ID(a3) AND ID(a2) != ID(a4)\n",
    "    AND t1.amount >= 500 AND t2.amount >= 500 AND t3.amount >= 500 AND t4.amount >= 500\n",
    "    AND t1.datetime < t2.datetime AND t2.datetime < t3.datetime AND t3.datetime < t4.datetime\n",
    "  GROUP BY a1.acc_id\n",
    "  ORDER BY a1.acc_id\n",
    "  LIMIT 5\n",
    "\"\"\").print()"
   ]
  },
  {
   "cell_type": "code",
   "execution_count": 163,
   "metadata": {},
   "outputs": [
    {
     "data": {
      "text/plain": [
       "VertexProperty(name: num_4_hops_cycles, type: integer, graph: sub-graph_44)"
      ]
     },
     "execution_count": 163,
     "metadata": {},
     "output_type": "execute_result"
    }
   ],
   "source": [
    "#graph.destroy_vertex_property_if_exists(\"num_4_hops_cycles\")\n",
    "graph.create_vertex_property(\"integer\", \"num_4_hops_cycles\")"
   ]
  },
  {
   "cell_type": "code",
   "execution_count": 165,
   "metadata": {},
   "outputs": [],
   "source": [
    "graph = graph.clone_and_execute_pgql(\"\"\"\n",
    "  UPDATE a1 SET (a1.num_4_hops_cycles = COUNT(*))\n",
    "  FROM MATCH (a1)-[t1:transferred_to]->(a2)-[t2:transferred_to]->(a3)\n",
    "     , MATCH (a3)-[t3:transferred_to]->(a4)-[t4:transferred_to]->(a1)\n",
    "  WHERE ID(a1) != ID(a3) AND ID(a2) != ID(a4)\n",
    "    AND t1.amount >= 500 AND t2.amount >= 500 AND t3.amount >= 500 AND t4.amount >= 500\n",
    "    AND t1.datetime < t2.datetime AND t2.datetime < t3.datetime AND t3.datetime < t4.datetime\n",
    "  GROUP BY a1\n",
    "\"\"\")"
   ]
  },
  {
   "cell_type": "markdown",
   "metadata": {},
   "source": [
    "## Store Features to Data Frame"
   ]
  },
  {
   "cell_type": "code",
   "execution_count": 166,
   "metadata": {},
   "outputs": [],
   "source": [
    "rs = graph.query_pgql(\"\"\"\n",
    "  SELECT\n",
    "    a.acc_id\n",
    "  , a.in_degree\n",
    "  , a.out_degree\n",
    "  , a.pagerank\n",
    "  , a.approx_betweenness\n",
    "  , a.eigenvector\n",
    "  , a.label_propagation\n",
    "  , a.conductance_minimization\n",
    "  , a.fraud_closeness\n",
    "  , a.num_4_hops_cycles\n",
    "  , CAST(a.is_fraud AS STRING)\n",
    "  FROM MATCH (a)\n",
    "  WHERE LABEL(a) = 'ACCOUNT'\n",
    "  ORDER BY a.acc_id\n",
    "  LIMIT 5\n",
    "\"\"\")"
   ]
  },
  {
   "cell_type": "code",
   "execution_count": 167,
   "metadata": {},
   "outputs": [],
   "source": [
    "import numpy as np\n",
    "import pandas as pd\n",
    "def pgql_to_pandas(pgql):\n",
    "    num_rows = pgql.num_results\n",
    "    print(\"Converted to PGQL result set\")\n",
    "    # Fetch all vectors into the local RAM session\n",
    "    temp_result = list(pgql._result_set_util.toList(pgql._pgql_result_set,0,num_rows))\n",
    "    print(\"Fetched all rows\")\n",
    "    # Convert the result into numpy arrays\n",
    "    temp_result2 = np.array(list(map(list,temp_result)))\n",
    "    print(\"Converted all rows to lists\")\n",
    "    # Create a pandas dataframe containing the vectors\n",
    "    vectors= pd.DataFrame(temp_result2[:,1:], index=temp_result2[:,0],\n",
    "    columns = [str(i) for i in range(1,len(temp_result2[0]),1)])\n",
    "    # Sort the index of the created dataframe\n",
    "    vectors_sorted = vectors.sort_index()\n",
    "    return vectors_sorted"
   ]
  },
  {
   "cell_type": "code",
   "execution_count": 168,
   "metadata": {},
   "outputs": [
    {
     "name": "stdout",
     "output_type": "stream",
     "text": [
      "Converted to PGQL result set\n",
      "Fetched all rows\n",
      "Converted all rows to lists\n"
     ]
    }
   ],
   "source": [
    "df = pgql_to_pandas(rs)"
   ]
  },
  {
   "cell_type": "code",
   "execution_count": 169,
   "metadata": {},
   "outputs": [
    {
     "data": {
      "text/html": [
       "<div>\n",
       "<style scoped>\n",
       "    .dataframe tbody tr th:only-of-type {\n",
       "        vertical-align: middle;\n",
       "    }\n",
       "\n",
       "    .dataframe tbody tr th {\n",
       "        vertical-align: top;\n",
       "    }\n",
       "\n",
       "    .dataframe thead th {\n",
       "        text-align: right;\n",
       "    }\n",
       "</style>\n",
       "<table border=\"1\" class=\"dataframe\">\n",
       "  <thead>\n",
       "    <tr style=\"text-align: right;\">\n",
       "      <th></th>\n",
       "      <th>1</th>\n",
       "      <th>2</th>\n",
       "      <th>3</th>\n",
       "      <th>4</th>\n",
       "      <th>5</th>\n",
       "      <th>6</th>\n",
       "      <th>7</th>\n",
       "      <th>8</th>\n",
       "      <th>9</th>\n",
       "      <th>10</th>\n",
       "    </tr>\n",
       "  </thead>\n",
       "  <tbody>\n",
       "    <tr>\n",
       "      <th>0</th>\n",
       "      <td>11</td>\n",
       "      <td>40</td>\n",
       "      <td>3.5983441791575393e-05</td>\n",
       "      <td>104.49709350562382</td>\n",
       "      <td>0.00012975692036835016</td>\n",
       "      <td>0</td>\n",
       "      <td>203</td>\n",
       "      <td>1.0421308187008823e-05</td>\n",
       "      <td>0</td>\n",
       "      <td>false</td>\n",
       "    </tr>\n",
       "    <tr>\n",
       "      <th>1</th>\n",
       "      <td>9</td>\n",
       "      <td>20</td>\n",
       "      <td>2.939306882121337e-05</td>\n",
       "      <td>12.016183264107733</td>\n",
       "      <td>6.706991688594956e-05</td>\n",
       "      <td>1163</td>\n",
       "      <td>1</td>\n",
       "      <td>0.15092796582155435</td>\n",
       "      <td>0</td>\n",
       "      <td>true</td>\n",
       "    </tr>\n",
       "    <tr>\n",
       "      <th>2</th>\n",
       "      <td>12</td>\n",
       "      <td>10</td>\n",
       "      <td>3.575203057519747e-05</td>\n",
       "      <td>65.7718232584681</td>\n",
       "      <td>3.849965117169405e-05</td>\n",
       "      <td>1</td>\n",
       "      <td>0</td>\n",
       "      <td>0.01130217355096834</td>\n",
       "      <td>0</td>\n",
       "      <td>false</td>\n",
       "    </tr>\n",
       "    <tr>\n",
       "      <th>3</th>\n",
       "      <td>3</td>\n",
       "      <td>20</td>\n",
       "      <td>1.876739704409634e-05</td>\n",
       "      <td>19.096772807819328</td>\n",
       "      <td>5.134107046485419e-05</td>\n",
       "      <td>724</td>\n",
       "      <td>203</td>\n",
       "      <td>2.334016436902037e-06</td>\n",
       "      <td>0</td>\n",
       "      <td>false</td>\n",
       "    </tr>\n",
       "    <tr>\n",
       "      <th>4</th>\n",
       "      <td>5</td>\n",
       "      <td>20</td>\n",
       "      <td>2.638818724149162e-05</td>\n",
       "      <td>23.303157494654254</td>\n",
       "      <td>4.7213043338719186e-05</td>\n",
       "      <td>2</td>\n",
       "      <td>485</td>\n",
       "      <td>0.006495951565058347</td>\n",
       "      <td>0</td>\n",
       "      <td>false</td>\n",
       "    </tr>\n",
       "  </tbody>\n",
       "</table>\n",
       "</div>"
      ],
      "text/plain": [
       "    1   2                       3                   4                       5  \\\n",
       "0  11  40  3.5983441791575393e-05  104.49709350562382  0.00012975692036835016   \n",
       "1   9  20   2.939306882121337e-05  12.016183264107733   6.706991688594956e-05   \n",
       "2  12  10   3.575203057519747e-05    65.7718232584681   3.849965117169405e-05   \n",
       "3   3  20   1.876739704409634e-05  19.096772807819328   5.134107046485419e-05   \n",
       "4   5  20   2.638818724149162e-05  23.303157494654254  4.7213043338719186e-05   \n",
       "\n",
       "      6    7                       8  9     10  \n",
       "0     0  203  1.0421308187008823e-05  0  false  \n",
       "1  1163    1     0.15092796582155435  0   true  \n",
       "2     1    0     0.01130217355096834  0  false  \n",
       "3   724  203   2.334016436902037e-06  0  false  \n",
       "4     2  485    0.006495951565058347  0  false  "
      ]
     },
     "execution_count": 169,
     "metadata": {},
     "output_type": "execute_result"
    }
   ],
   "source": [
    "df"
   ]
  },
  {
   "cell_type": "markdown",
   "metadata": {},
   "source": [
    "## Unsupervised Learning"
   ]
  },
  {
   "cell_type": "markdown",
   "metadata": {},
   "source": [
    "## Supervised Learning\n",
    "\n",
    "superviesed learning needs sufficient number of positive cases (e.g. fraud cases) in the training dataset. Since the alerted cases are (often manually) investigated, such decitions (e.g. suspicious cases or not) might be the input."
   ]
  },
  {
   "cell_type": "code",
   "execution_count": null,
   "metadata": {},
   "outputs": [],
   "source": []
  }
 ],
 "metadata": {
  "kernelspec": {
   "display_name": "Python 3",
   "language": "python",
   "name": "python3"
  },
  "language_info": {
   "codemirror_mode": {
    "name": "ipython",
    "version": 3
   },
   "file_extension": ".py",
   "mimetype": "text/x-python",
   "name": "python",
   "nbconvert_exporter": "python",
   "pygments_lexer": "ipython3",
   "version": "3.6.8"
  }
 },
 "nbformat": 4,
 "nbformat_minor": 4
}
